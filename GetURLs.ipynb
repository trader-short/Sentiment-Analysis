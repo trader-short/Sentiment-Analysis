{
 "cells": [
  {
   "cell_type": "code",
   "execution_count": 1,
   "metadata": {},
   "outputs": [],
   "source": [
    "import numpy as np\n",
    "import pandas as pd\n",
    "import requests\n",
    "import datetime as dt\n",
    "import time"
   ]
  },
  {
   "cell_type": "markdown",
   "metadata": {},
   "source": [
    "#### Set the lookback dates to get the related articles during that phase"
   ]
  },
  {
   "cell_type": "code",
   "execution_count": 2,
   "metadata": {},
   "outputs": [],
   "source": [
    "lookback = pd.date_range(start='03/11/2020', end='04/11/2020')"
   ]
  },
  {
   "cell_type": "code",
   "execution_count": 3,
   "metadata": {},
   "outputs": [
    {
     "data": {
      "text/plain": [
       "DatetimeIndex(['2020-03-11', '2020-03-12', '2020-03-13', '2020-03-14',\n",
       "               '2020-03-15', '2020-03-16', '2020-03-17', '2020-03-18',\n",
       "               '2020-03-19', '2020-03-20', '2020-03-21', '2020-03-22',\n",
       "               '2020-03-23', '2020-03-24', '2020-03-25', '2020-03-26',\n",
       "               '2020-03-27', '2020-03-28', '2020-03-29', '2020-03-30',\n",
       "               '2020-03-31', '2020-04-01', '2020-04-02', '2020-04-03',\n",
       "               '2020-04-04', '2020-04-05', '2020-04-06', '2020-04-07',\n",
       "               '2020-04-08', '2020-04-09', '2020-04-10', '2020-04-11'],\n",
       "              dtype='datetime64[ns]', freq='D')"
      ]
     },
     "execution_count": 3,
     "metadata": {},
     "output_type": "execute_result"
    }
   ],
   "source": [
    "lookback"
   ]
  },
  {
   "cell_type": "code",
   "execution_count": 4,
   "metadata": {},
   "outputs": [],
   "source": [
    "articles=pd.DataFrame({'publishedAt':[],\n",
    "                       'author':[],\n",
    "                       'description':[],\n",
    "                       'source':[],\n",
    "                       'title':[],\n",
    "                       'url':[],\n",
    "                       'urlToImage':[]})"
   ]
  },
  {
   "cell_type": "code",
   "execution_count": 5,
   "metadata": {},
   "outputs": [],
   "source": [
    "for i in lookback:\n",
    "    r = ('https://newsapi.org/v2/everything?'\n",
    "       'q=microsoft&'\n",
    "       'from={x}&'\n",
    "        'to={x}&'\n",
    "        'language=en&'\n",
    "       'sortBy=popularity&'\n",
    "     'pageSize=10&'\n",
    "         'sources=bbc-news,bloomberg,fortune,cnn,financial-times,fox-news,reuters,the-wall-street-journal&'\n",
    "       'apiKey=b39a16ee546b4211a8a27acc515df4ef'.format(x=i))\n",
    "    \n",
    "    t = requests.get(r)\n",
    "    data= t.json()\n",
    "    ar = data['articles']\n",
    "    temp = pd.DataFrame(ar)\n",
    "    frames=[articles,temp]\n",
    "    articles=pd.concat(frames, sort=True)\n",
    "    time.sleep(1)"
   ]
  },
  {
   "cell_type": "code",
   "execution_count": 6,
   "metadata": {},
   "outputs": [],
   "source": [
    "articles=articles.set_index('publishedAt')"
   ]
  },
  {
   "cell_type": "code",
   "execution_count": 7,
   "metadata": {},
   "outputs": [
    {
     "data": {
      "text/html": [
       "<div>\n",
       "<style scoped>\n",
       "    .dataframe tbody tr th:only-of-type {\n",
       "        vertical-align: middle;\n",
       "    }\n",
       "\n",
       "    .dataframe tbody tr th {\n",
       "        vertical-align: top;\n",
       "    }\n",
       "\n",
       "    .dataframe thead th {\n",
       "        text-align: right;\n",
       "    }\n",
       "</style>\n",
       "<table border=\"1\" class=\"dataframe\">\n",
       "  <thead>\n",
       "    <tr style=\"text-align: right;\">\n",
       "      <th></th>\n",
       "      <th>author</th>\n",
       "      <th>content</th>\n",
       "      <th>description</th>\n",
       "      <th>source</th>\n",
       "      <th>title</th>\n",
       "      <th>url</th>\n",
       "      <th>urlToImage</th>\n",
       "    </tr>\n",
       "    <tr>\n",
       "      <th>publishedAt</th>\n",
       "      <th></th>\n",
       "      <th></th>\n",
       "      <th></th>\n",
       "      <th></th>\n",
       "      <th></th>\n",
       "      <th></th>\n",
       "      <th></th>\n",
       "    </tr>\n",
       "  </thead>\n",
       "  <tbody>\n",
       "    <tr>\n",
       "      <th>2020-03-11T16:54:24Z</th>\n",
       "      <td>Reuters Editorial</td>\n",
       "      <td>WASHINGTON (Reuters) - White House officials m...</td>\n",
       "      <td>White House officials met Wednesday with U.S. ...</td>\n",
       "      <td>{'id': 'reuters', 'name': 'Reuters'}</td>\n",
       "      <td>White House, tech industry meet to discuss cor...</td>\n",
       "      <td>https://www.reuters.com/article/us-health-coro...</td>\n",
       "      <td>https://s4.reutersmedia.net/resources_v2/image...</td>\n",
       "    </tr>\n",
       "    <tr>\n",
       "      <th>2020-03-11T21:57:14Z</th>\n",
       "      <td>None</td>\n",
       "      <td>None</td>\n",
       "      <td>None</td>\n",
       "      <td>{'id': 'bloomberg', 'name': 'Bloomberg'}</td>\n",
       "      <td>Volatilty Presents Buying Opportunities in App...</td>\n",
       "      <td>https://www.bloomberg.com/news/videos/2020-03-...</td>\n",
       "      <td>None</td>\n",
       "    </tr>\n",
       "    <tr>\n",
       "      <th>2020-03-11T10:28:53Z</th>\n",
       "      <td>David Randall</td>\n",
       "      <td>NEW YORK (Reuters) - The deep declines in the ...</td>\n",
       "      <td>The deep declines in the U.S. stock market ove...</td>\n",
       "      <td>{'id': 'reuters', 'name': 'Reuters'}</td>\n",
       "      <td>Explainer: Coronavirus fears hit the market ha...</td>\n",
       "      <td>https://www.reuters.com/article/us-health-coro...</td>\n",
       "      <td>https://s3.reutersmedia.net/resources/r/?m=02&amp;...</td>\n",
       "    </tr>\n",
       "    <tr>\n",
       "      <th>2020-03-11T04:13:26Z</th>\n",
       "      <td>https://www.facebook.com/bbcnews</td>\n",
       "      <td>Image copyrightGetty Images\\r\\nGoogle's parent...</td>\n",
       "      <td>Parent company Alphabet is the latest tech fir...</td>\n",
       "      <td>{'id': 'bbc-news', 'name': 'BBC News'}</td>\n",
       "      <td>Google tells staff to work home due to coronav...</td>\n",
       "      <td>https://www.bbc.co.uk/news/technology-51828782</td>\n",
       "      <td>https://ichef.bbci.co.uk/news/1024/branded_new...</td>\n",
       "    </tr>\n",
       "    <tr>\n",
       "      <th>2020-03-11T18:15:00Z</th>\n",
       "      <td>Valentina Pop</td>\n",
       "      <td>BRUSSELSThe European Union is reviving an alli...</td>\n",
       "      <td>Pact formed last year to target false content ...</td>\n",
       "      <td>{'id': 'the-wall-street-journal', 'name': 'The...</td>\n",
       "      <td>EU, Tech Firms Renew Alert System to Fight Cor...</td>\n",
       "      <td>https://www.wsj.com/articles/eu-tech-firms-ren...</td>\n",
       "      <td>https://images.wsj.net/im-163181/social</td>\n",
       "    </tr>\n",
       "  </tbody>\n",
       "</table>\n",
       "</div>"
      ],
      "text/plain": [
       "                                                author  \\\n",
       "publishedAt                                              \n",
       "2020-03-11T16:54:24Z                 Reuters Editorial   \n",
       "2020-03-11T21:57:14Z                              None   \n",
       "2020-03-11T10:28:53Z                     David Randall   \n",
       "2020-03-11T04:13:26Z  https://www.facebook.com/bbcnews   \n",
       "2020-03-11T18:15:00Z                     Valentina Pop   \n",
       "\n",
       "                                                                content  \\\n",
       "publishedAt                                                               \n",
       "2020-03-11T16:54:24Z  WASHINGTON (Reuters) - White House officials m...   \n",
       "2020-03-11T21:57:14Z                                               None   \n",
       "2020-03-11T10:28:53Z  NEW YORK (Reuters) - The deep declines in the ...   \n",
       "2020-03-11T04:13:26Z  Image copyrightGetty Images\\r\\nGoogle's parent...   \n",
       "2020-03-11T18:15:00Z  BRUSSELSThe European Union is reviving an alli...   \n",
       "\n",
       "                                                            description  \\\n",
       "publishedAt                                                               \n",
       "2020-03-11T16:54:24Z  White House officials met Wednesday with U.S. ...   \n",
       "2020-03-11T21:57:14Z                                               None   \n",
       "2020-03-11T10:28:53Z  The deep declines in the U.S. stock market ove...   \n",
       "2020-03-11T04:13:26Z  Parent company Alphabet is the latest tech fir...   \n",
       "2020-03-11T18:15:00Z  Pact formed last year to target false content ...   \n",
       "\n",
       "                                                                 source  \\\n",
       "publishedAt                                                               \n",
       "2020-03-11T16:54:24Z               {'id': 'reuters', 'name': 'Reuters'}   \n",
       "2020-03-11T21:57:14Z           {'id': 'bloomberg', 'name': 'Bloomberg'}   \n",
       "2020-03-11T10:28:53Z               {'id': 'reuters', 'name': 'Reuters'}   \n",
       "2020-03-11T04:13:26Z             {'id': 'bbc-news', 'name': 'BBC News'}   \n",
       "2020-03-11T18:15:00Z  {'id': 'the-wall-street-journal', 'name': 'The...   \n",
       "\n",
       "                                                                  title  \\\n",
       "publishedAt                                                               \n",
       "2020-03-11T16:54:24Z  White House, tech industry meet to discuss cor...   \n",
       "2020-03-11T21:57:14Z  Volatilty Presents Buying Opportunities in App...   \n",
       "2020-03-11T10:28:53Z  Explainer: Coronavirus fears hit the market ha...   \n",
       "2020-03-11T04:13:26Z  Google tells staff to work home due to coronav...   \n",
       "2020-03-11T18:15:00Z  EU, Tech Firms Renew Alert System to Fight Cor...   \n",
       "\n",
       "                                                                    url  \\\n",
       "publishedAt                                                               \n",
       "2020-03-11T16:54:24Z  https://www.reuters.com/article/us-health-coro...   \n",
       "2020-03-11T21:57:14Z  https://www.bloomberg.com/news/videos/2020-03-...   \n",
       "2020-03-11T10:28:53Z  https://www.reuters.com/article/us-health-coro...   \n",
       "2020-03-11T04:13:26Z     https://www.bbc.co.uk/news/technology-51828782   \n",
       "2020-03-11T18:15:00Z  https://www.wsj.com/articles/eu-tech-firms-ren...   \n",
       "\n",
       "                                                             urlToImage  \n",
       "publishedAt                                                              \n",
       "2020-03-11T16:54:24Z  https://s4.reutersmedia.net/resources_v2/image...  \n",
       "2020-03-11T21:57:14Z                                               None  \n",
       "2020-03-11T10:28:53Z  https://s3.reutersmedia.net/resources/r/?m=02&...  \n",
       "2020-03-11T04:13:26Z  https://ichef.bbci.co.uk/news/1024/branded_new...  \n",
       "2020-03-11T18:15:00Z            https://images.wsj.net/im-163181/social  "
      ]
     },
     "execution_count": 7,
     "metadata": {},
     "output_type": "execute_result"
    }
   ],
   "source": [
    "articles.head()"
   ]
  },
  {
   "cell_type": "code",
   "execution_count": 8,
   "metadata": {},
   "outputs": [
    {
     "data": {
      "text/plain": [
       "177"
      ]
     },
     "execution_count": 8,
     "metadata": {},
     "output_type": "execute_result"
    }
   ],
   "source": [
    "len(articles)"
   ]
  },
  {
   "cell_type": "code",
   "execution_count": 9,
   "metadata": {},
   "outputs": [],
   "source": [
    "articles.to_excel('URLs.xlsx')"
   ]
  },
  {
   "cell_type": "code",
   "execution_count": null,
   "metadata": {},
   "outputs": [],
   "source": []
  },
  {
   "cell_type": "code",
   "execution_count": null,
   "metadata": {},
   "outputs": [],
   "source": []
  }
 ],
 "metadata": {
  "kernelspec": {
   "display_name": "Python 3",
   "language": "python",
   "name": "python3"
  },
  "language_info": {
   "codemirror_mode": {
    "name": "ipython",
    "version": 3
   },
   "file_extension": ".py",
   "mimetype": "text/x-python",
   "name": "python",
   "nbconvert_exporter": "python",
   "pygments_lexer": "ipython3",
   "version": "3.6.4"
  }
 },
 "nbformat": 4,
 "nbformat_minor": 2
}
